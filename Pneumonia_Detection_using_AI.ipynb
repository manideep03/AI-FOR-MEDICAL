{
  "nbformat": 4,
  "nbformat_minor": 0,
  "metadata": {
    "colab": {
      "name": "Pneumonia_Detection_using_AI.ipynb",
      "provenance": [],
      "collapsed_sections": []
    },
    "kernelspec": {
      "name": "python3",
      "display_name": "Python 3"
    },
    "accelerator": "GPU"
  },
  "cells": [
    {
      "cell_type": "markdown",
      "metadata": {
        "id": "jnz-TzLS_Tcx",
        "colab_type": "text"
      },
      "source": [
        "<h1>PNEUMONIA DETECTION USING DEEP LEARNING </h1>"
      ]
    },
    {
      "cell_type": "markdown",
      "metadata": {
        "id": "kobrIo60_aUt",
        "colab_type": "text"
      },
      "source": [
        "<h2>Download data from KAGGLE</h2>\n",
        "\n",
        "[Dataset link](https://www.kaggle.com/paultimothymooney/chest-xray-pneumonia)"
      ]
    },
    {
      "cell_type": "code",
      "metadata": {
        "id": "vuwweFcb-_Ip",
        "colab_type": "code",
        "outputId": "9ae81871-99a1-498e-8eeb-cb13506e24c4",
        "colab": {
          "base_uri": "https://localhost:8080/",
          "height": 202
        }
      },
      "source": [
        "#installing data from kaggle\n",
        "!pip install kaggle"
      ],
      "execution_count": 0,
      "outputs": [
        {
          "output_type": "stream",
          "text": [
            "Requirement already satisfied: kaggle in /usr/local/lib/python3.6/dist-packages (1.5.6)\n",
            "Requirement already satisfied: certifi in /usr/local/lib/python3.6/dist-packages (from kaggle) (2020.4.5.1)\n",
            "Requirement already satisfied: six>=1.10 in /usr/local/lib/python3.6/dist-packages (from kaggle) (1.12.0)\n",
            "Requirement already satisfied: requests in /usr/local/lib/python3.6/dist-packages (from kaggle) (2.23.0)\n",
            "Requirement already satisfied: tqdm in /usr/local/lib/python3.6/dist-packages (from kaggle) (4.41.1)\n",
            "Requirement already satisfied: python-dateutil in /usr/local/lib/python3.6/dist-packages (from kaggle) (2.8.1)\n",
            "Requirement already satisfied: urllib3<1.25,>=1.21.1 in /usr/local/lib/python3.6/dist-packages (from kaggle) (1.24.3)\n",
            "Requirement already satisfied: python-slugify in /usr/local/lib/python3.6/dist-packages (from kaggle) (4.0.0)\n",
            "Requirement already satisfied: chardet<4,>=3.0.2 in /usr/local/lib/python3.6/dist-packages (from requests->kaggle) (3.0.4)\n",
            "Requirement already satisfied: idna<3,>=2.5 in /usr/local/lib/python3.6/dist-packages (from requests->kaggle) (2.9)\n",
            "Requirement already satisfied: text-unidecode>=1.3 in /usr/local/lib/python3.6/dist-packages (from python-slugify->kaggle) (1.3)\n"
          ],
          "name": "stdout"
        }
      ]
    },
    {
      "cell_type": "code",
      "metadata": {
        "id": "wlCyd6MEDfEx",
        "colab_type": "code",
        "colab": {}
      },
      "source": [
        "#upload kaggle api .json file \n",
        "from google.colab import files\n",
        "files.upload()"
      ],
      "execution_count": 0,
      "outputs": []
    },
    {
      "cell_type": "code",
      "metadata": {
        "id": "nNLVfmuuDjyi",
        "colab_type": "code",
        "outputId": "6af71cb8-4ec8-4fe2-f524-898403ab01ec",
        "colab": {
          "base_uri": "https://localhost:8080/",
          "height": 34
        }
      },
      "source": [
        "#making requirement for downloading data from kaggle \n",
        "!mkdir -p ~/.kaggle\n",
        "!cp kaggle.json ~/.kaggle/\n",
        "!ls ~/.kaggle\n",
        "!chmod 600 /root/.kaggle/kaggle.json"
      ],
      "execution_count": 0,
      "outputs": [
        {
          "output_type": "stream",
          "text": [
            "kaggle.json\n"
          ],
          "name": "stdout"
        }
      ]
    },
    {
      "cell_type": "code",
      "metadata": {
        "id": "fnG_YwUqDr_q",
        "colab_type": "code",
        "outputId": "84a47e3e-9588-4287-d47f-8ac2a4ddafd1",
        "colab": {
          "base_uri": "https://localhost:8080/",
          "height": 67
        }
      },
      "source": [
        "#dataset link\n",
        "! kaggle datasets download -d paultimothymooney/chest-xray-pneumonia"
      ],
      "execution_count": 0,
      "outputs": [
        {
          "output_type": "stream",
          "text": [
            "Downloading chest-xray-pneumonia.zip to /content\n",
            " 99% 2.28G/2.29G [00:30<00:00, 89.9MB/s]\n",
            "100% 2.29G/2.29G [00:30<00:00, 79.8MB/s]\n"
          ],
          "name": "stdout"
        }
      ]
    },
    {
      "cell_type": "code",
      "metadata": {
        "id": "87QraSGbDtyt",
        "colab_type": "code",
        "colab": {}
      },
      "source": [
        "#unziping data \n",
        "!unzip /content/chest-xray-pneumonia.zip"
      ],
      "execution_count": 0,
      "outputs": []
    },
    {
      "cell_type": "markdown",
      "metadata": {
        "id": "_nJ29AKHEkZn",
        "colab_type": "text"
      },
      "source": [
        "<h2>VISUALIZEING DATA IN FOLDERS</h2>"
      ]
    },
    {
      "cell_type": "code",
      "metadata": {
        "id": "nQ5LM9QmD8DY",
        "colab_type": "code",
        "colab": {}
      },
      "source": [
        "#helper libraries\n",
        "import os\n",
        "import random \n",
        "import matplotlib.pyplot as plt\n",
        "from glob import glob\n",
        "import cv2"
      ],
      "execution_count": 0,
      "outputs": []
    },
    {
      "cell_type": "code",
      "metadata": {
        "id": "fFsje2xnGafD",
        "colab_type": "code",
        "outputId": "18f22dab-c102-4ddf-b078-118786276aac",
        "colab": {
          "base_uri": "https://localhost:8080/",
          "height": 34
        }
      },
      "source": [
        "train_path = '/content/chest_xray/chest_xray/train' #path for tain set \n",
        "test_path = '/content/chest_xray/chest_xray/test' #path for test set\n",
        "\n",
        "train_folder = glob('/content/chest_xray/train/*')\n",
        "classes = len(train_folder)\n",
        "print('Total number of classes :',classes)"
      ],
      "execution_count": 0,
      "outputs": [
        {
          "output_type": "stream",
          "text": [
            "Total number of classes : 2\n"
          ],
          "name": "stdout"
        }
      ]
    },
    {
      "cell_type": "code",
      "metadata": {
        "id": "IhhLwLSdIQWT",
        "colab_type": "code",
        "outputId": "06dcea31-7d03-40c9-dc14-9b625b4e95d1",
        "colab": {
          "base_uri": "https://localhost:8080/",
          "height": 163
        }
      },
      "source": [
        "#reading two random images\n",
        "\n",
        "img_0 = cv2.imread('/content/chest_xray/chest_xray/test/NORMAL/IM-0017-0001.jpeg')\n",
        "img_1 = cv2.imread('/content/chest_xray/chest_xray/test/PNEUMONIA/person103_bacteria_488.jpeg')\n",
        "plt.subplot(2,2,1)\n",
        "plt.imshow(img_0, cmap='gray')\n",
        "plt.axis('off')\n",
        "plt.title('NORMAL')\n",
        "plt.subplot(2,2,2)\n",
        "plt.imshow(img_1,cmap='gray')\n",
        "plt.axis('off')\n",
        "plt.title('PNEUMINIA')"
      ],
      "execution_count": 0,
      "outputs": [
        {
          "output_type": "execute_result",
          "data": {
            "text/plain": [
              "Text(0.5, 1.0, 'PNEUMINIA')"
            ]
          },
          "metadata": {
            "tags": []
          },
          "execution_count": 9
        },
        {
          "output_type": "display_data",
          "data": {
            "image/png": "[encoded data removed]",
            "text/plain": [
              "<Figure size 432x288 with 2 Axes>"
            ]
          },
          "metadata": {
            "tags": [],
            "needs_background": "light"
          }
        }
      ]
    },
    {
      "cell_type": "markdown",
      "metadata": {
        "id": "o9Z9z9ZKDxks",
        "colab_type": "text"
      },
      "source": [
        "<h2>CREATING MODLE</h2>\n"
      ]
    },
    {
      "cell_type": "markdown",
      "metadata": {
        "id": "mHg9WUJUMdFf",
        "colab_type": "text"
      },
      "source": [
        "<h3>Trying with VGG16 imagenet weights </h3>\n"
      ]
    },
    {
      "cell_type": "code",
      "metadata": {
        "id": "xqqVS7I8DvTs",
        "colab_type": "code",
        "colab": {}
      },
      "source": [
        "# 1 vgg16 pretrained\n",
        "#importing libraries\n",
        "\n",
        "from tensorflow.keras.applications.vgg16 import VGG16 ,preprocess_input\n",
        "from tensorflow.keras.layers import Input,Dense,Flatten\n",
        "from tensorflow.keras.preprocessing.image import ImageDataGenerator\n",
        "from tensorflow.keras.models import Sequential ,Model\n",
        "import numpy as np"
      ],
      "execution_count": 0,
      "outputs": []
    },
    {
      "cell_type": "code",
      "metadata": {
        "id": "hTZ7tcAmNE4w",
        "colab_type": "code",
        "colab": {}
      },
      "source": [
        "image_size = [224,224] #image size "
      ],
      "execution_count": 0,
      "outputs": []
    },
    {
      "cell_type": "code",
      "metadata": {
        "id": "RZHzcNJlNKY0",
        "colab_type": "code",
        "outputId": "35ee6ddc-2514-406d-f153-55b7f0862829",
        "colab": {
          "base_uri": "https://localhost:8080/",
          "height": 50
        }
      },
      "source": [
        "#downlading VGG16 imagenet weights\n",
        "vgg_model = VGG16(input_shape=image_size+[3],weights='imagenet',include_top=False)"
      ],
      "execution_count": 0,
      "outputs": [
        {
          "output_type": "stream",
          "text": [
            "Downloading data from https://storage.googleapis.com/tensorflow/keras-applications/vgg16/vgg16_weights_tf_dim_ordering_tf_kernels_notop.h5\n",
            "58892288/58889256 [==============================] - 0s 0us/step\n"
          ],
          "name": "stdout"
        }
      ]
    },
    {
      "cell_type": "code",
      "metadata": {
        "id": "0OhjKO40NNS7",
        "colab_type": "code",
        "colab": {}
      },
      "source": [
        "#using pretrained weights for VGG16\n",
        "for layer in vgg_model.layers:\n",
        "    layer.trainable = False"
      ],
      "execution_count": 0,
      "outputs": []
    },
    {
      "cell_type": "code",
      "metadata": {
        "id": "aZDDVT9SNO0Y",
        "colab_type": "code",
        "colab": {}
      },
      "source": [
        "#tunning VGG16 last layers in model \n",
        "x = Flatten()(vgg_model.output)\n",
        "pred = Dense(classes,activation='softmax')(x)\n",
        "model = Model(inputs=vgg_model.input, outputs=pred)"
      ],
      "execution_count": 0,
      "outputs": []
    },
    {
      "cell_type": "code",
      "metadata": {
        "id": "CCV7LwFMNW69",
        "colab_type": "code",
        "outputId": "f37f3cec-2c9a-4a5b-d872-db7807f46086",
        "colab": {
          "base_uri": "https://localhost:8080/",
          "height": 857
        }
      },
      "source": [
        "#model architecture\n",
        "model.summary()"
      ],
      "execution_count": 0,
      "outputs": [
        {
          "output_type": "stream",
          "text": [
            "Model: \"model\"\n",
            "_________________________________________________________________\n",
            "Layer (type)                 Output Shape              Param #   \n",
            "=================================================================\n",
            "input_1 (InputLayer)         [(None, 224, 224, 3)]     0         \n",
            "_________________________________________________________________\n",
            "block1_conv1 (Conv2D)        (None, 224, 224, 64)      1792      \n",
            "_________________________________________________________________\n",
            "block1_conv2 (Conv2D)        (None, 224, 224, 64)      36928     \n",
            "_________________________________________________________________\n",
            "block1_pool (MaxPooling2D)   (None, 112, 112, 64)      0         \n",
            "_________________________________________________________________\n",
            "block2_conv1 (Conv2D)        (None, 112, 112, 128)     73856     \n",
            "_________________________________________________________________\n",
            "block2_conv2 (Conv2D)        (None, 112, 112, 128)     147584    \n",
            "_________________________________________________________________\n",
            "block2_pool (MaxPooling2D)   (None, 56, 56, 128)       0         \n",
            "_________________________________________________________________\n",
            "block3_conv1 (Conv2D)        (None, 56, 56, 256)       295168    \n",
            "_________________________________________________________________\n",
            "block3_conv2 (Conv2D)        (None, 56, 56, 256)       590080    \n",
            "_________________________________________________________________\n",
            "block3_conv3 (Conv2D)        (None, 56, 56, 256)       590080    \n",
            "_________________________________________________________________\n",
            "block3_pool (MaxPooling2D)   (None, 28, 28, 256)       0         \n",
            "_________________________________________________________________\n",
            "block4_conv1 (Conv2D)        (None, 28, 28, 512)       1180160   \n",
            "_________________________________________________________________\n",
            "block4_conv2 (Conv2D)        (None, 28, 28, 512)       2359808   \n",
            "_________________________________________________________________\n",
            "block4_conv3 (Conv2D)        (None, 28, 28, 512)       2359808   \n",
            "_________________________________________________________________\n",
            "block4_pool (MaxPooling2D)   (None, 14, 14, 512)       0         \n",
            "_________________________________________________________________\n",
            "block5_conv1 (Conv2D)        (None, 14, 14, 512)       2359808   \n",
            "_________________________________________________________________\n",
            "block5_conv2 (Conv2D)        (None, 14, 14, 512)       2359808   \n",
            "_________________________________________________________________\n",
            "block5_conv3 (Conv2D)        (None, 14, 14, 512)       2359808   \n",
            "_________________________________________________________________\n",
            "block5_pool (MaxPooling2D)   (None, 7, 7, 512)         0         \n",
            "_________________________________________________________________\n",
            "flatten (Flatten)            (None, 25088)             0         \n",
            "_________________________________________________________________\n",
            "dense (Dense)                (None, 2)                 50178     \n",
            "=================================================================\n",
            "Total params: 14,764,866\n",
            "Trainable params: 50,178\n",
            "Non-trainable params: 14,714,688\n",
            "_________________________________________________________________\n"
          ],
          "name": "stdout"
        }
      ]
    },
    {
      "cell_type": "code",
      "metadata": {
        "id": "mWzZ4JHzN4au",
        "colab_type": "code",
        "colab": {}
      },
      "source": [
        "#compiling model\n",
        "model.compile(optimizer='adam',loss='categorical_crossentropy',metrics=['accuracy'])"
      ],
      "execution_count": 0,
      "outputs": []
    },
    {
      "cell_type": "code",
      "metadata": {
        "id": "iCcXX_NxRwFp",
        "colab_type": "code",
        "colab": {}
      },
      "source": [
        "#train datagenerator\n",
        "train_datagen = ImageDataGenerator(rescale=1./255,\n",
        "                                   shear_range=0.2,\n",
        "                                   zoom_range=0.2,\n",
        "                                   horizontal_flip = True)\n",
        "#test datagenerator\n",
        "test_datagen = ImageDataGenerator(rescale=1./255)"
      ],
      "execution_count": 0,
      "outputs": []
    },
    {
      "cell_type": "code",
      "metadata": {
        "id": "EPj0L4ovN7FR",
        "colab_type": "code",
        "outputId": "de2ce2d1-8d28-4788-e1ea-1bfda576c500",
        "colab": {
          "base_uri": "https://localhost:8080/",
          "height": 50
        }
      },
      "source": [
        "#creating data datagenerator for training data\n",
        "train_data = train_datagen.flow_from_directory(train_path,target_size = (224,224),batch_size = 32,class_mode = 'categorical')\n",
        "#creating data datagenerator for testing data\n",
        "test_data = test_datagen.flow_from_directory(test_path,target_size=(224,224),batch_size=32,class_mode='categorical')"
      ],
      "execution_count": 0,
      "outputs": [
        {
          "output_type": "stream",
          "text": [
            "Found 5216 images belonging to 2 classes.\n",
            "Found 624 images belonging to 2 classes.\n"
          ],
          "name": "stdout"
        }
      ]
    },
    {
      "cell_type": "markdown",
      "metadata": {
        "id": "XZYoM7gmOAKy",
        "colab_type": "text"
      },
      "source": [
        "<p>traning model </p>"
      ]
    },
    {
      "cell_type": "code",
      "metadata": {
        "id": "BqnMh36NN99G",
        "colab_type": "code",
        "outputId": "f6911db2-fb2a-4808-f624-f265ffc1f592",
        "colab": {
          "base_uri": "https://localhost:8080/",
          "height": 353
        }
      },
      "source": [
        "#traning model \n",
        "history = model.fit(\n",
        "    train_data,\n",
        "    validation_data = test_data,\n",
        "    epochs = 10\n",
        ")"
      ],
      "execution_count": 0,
      "outputs": [
        {
          "output_type": "stream",
          "text": [
            "Epoch 1/10\n",
            "163/163 [==============================] - 101s 617ms/step - loss: 0.1874 - accuracy: 0.9296 - val_loss: 0.2813 - val_accuracy: 0.9071\n",
            "Epoch 2/10\n",
            "163/163 [==============================] - 101s 623ms/step - loss: 0.1085 - accuracy: 0.9565 - val_loss: 0.3639 - val_accuracy: 0.8942\n",
            "Epoch 3/10\n",
            "163/163 [==============================] - 102s 623ms/step - loss: 0.0958 - accuracy: 0.9643 - val_loss: 0.5589 - val_accuracy: 0.8478\n",
            "Epoch 4/10\n",
            "163/163 [==============================] - 101s 619ms/step - loss: 0.0966 - accuracy: 0.9636 - val_loss: 0.4180 - val_accuracy: 0.9022\n",
            "Epoch 5/10\n",
            "163/163 [==============================] - 102s 623ms/step - loss: 0.0701 - accuracy: 0.9745 - val_loss: 0.4741 - val_accuracy: 0.8910\n",
            "Epoch 6/10\n",
            "163/163 [==============================] - 101s 621ms/step - loss: 0.0666 - accuracy: 0.9751 - val_loss: 0.4860 - val_accuracy: 0.8702\n",
            "Epoch 7/10\n",
            "163/163 [==============================] - 102s 623ms/step - loss: 0.0704 - accuracy: 0.9747 - val_loss: 0.3718 - val_accuracy: 0.8990\n",
            "Epoch 8/10\n",
            "163/163 [==============================] - 102s 626ms/step - loss: 0.0774 - accuracy: 0.9732 - val_loss: 0.3418 - val_accuracy: 0.9183\n",
            "Epoch 9/10\n",
            "163/163 [==============================] - 102s 628ms/step - loss: 0.0578 - accuracy: 0.9787 - val_loss: 0.5128 - val_accuracy: 0.8862\n",
            "Epoch 10/10\n",
            "163/163 [==============================] - 102s 628ms/step - loss: 0.0733 - accuracy: 0.9730 - val_loss: 0.4142 - val_accuracy: 0.9071\n"
          ],
          "name": "stdout"
        }
      ]
    },
    {
      "cell_type": "code",
      "metadata": {
        "id": "wNauVxNCOH-t",
        "colab_type": "code",
        "colab": {}
      },
      "source": [
        "#saving model\n",
        "model.save('pneumonia.h5')"
      ],
      "execution_count": 0,
      "outputs": []
    },
    {
      "cell_type": "code",
      "metadata": {
        "id": "XRHY1riAOJw0",
        "colab_type": "code",
        "outputId": "0c91ec99-84ba-4a54-9e5c-ab62b464e33d",
        "colab": {
          "base_uri": "https://localhost:8080/",
          "height": 84
        }
      },
      "source": [
        "#creating validation data for evaluating model\n",
        "val_path = '/content/chest_xray/chest_xray/val'\n",
        "val_datagen = ImageDataGenerator(rescale=1./255)\n",
        "val_data = val_datagen.flow_from_directory(val_path,target_size=(224,224),batch_size=32,class_mode='categorical')#evaluating model\n",
        "loss,acc = model.evaluate(val_data)\n",
        "print('Acc of model :',acc)\n",
        "print('Loss of model :',loss)"
      ],
      "execution_count": 0,
      "outputs": [
        {
          "output_type": "stream",
          "text": [
            "Found 16 images belonging to 2 classes.\n",
            "1/1 [==============================] - 0s 1ms/step - loss: 0.2833 - accuracy: 0.9375\n",
            "Acc of model : 0.9375\n",
            "Loss of model : 0.28329747915267944\n"
          ],
          "name": "stdout"
        }
      ]
    },
    {
      "cell_type": "code",
      "metadata": {
        "id": "uDUbLepmVuHx",
        "colab_type": "code",
        "colab": {}
      },
      "source": [
        "classes_list = ['NORMAL','PNEUMONIA']\n",
        "def predict(img_path):\n",
        "    img = cv2.imread(img_path) #reading image\n",
        "    img = cv2.resize(img,(224,224)) #resizing image \n",
        "    img = np.array(img).reshape(-1,224,224,3) #expanding dimensitions\n",
        "    y_prob = model.predict(img) \n",
        "    c = y_prob.argmax()\n",
        "    return classes_list[c]"
      ],
      "execution_count": 0,
      "outputs": []
    },
    {
      "cell_type": "code",
      "metadata": {
        "id": "QSDR0JLiW7FI",
        "colab_type": "code",
        "outputId": "abeadee9-cc32-4224-8854-1624b75e8d3d",
        "colab": {
          "base_uri": "https://localhost:8080/",
          "height": 34
        }
      },
      "source": [
        "#running our model on a PNEUMONIA image \n",
        "output = predict('/content/chest_xray/val/PNEUMONIA/person1950_bacteria_4881.jpeg')\n",
        "print('OUTPUT :',output)"
      ],
      "execution_count": 0,
      "outputs": [
        {
          "output_type": "stream",
          "text": [
            "OUTPUT : PNEUMONIA\n"
          ],
          "name": "stdout"
        }
      ]
    },
    {
      "cell_type": "code",
      "metadata": {
        "id": "WbUjpJP-XJHF",
        "colab_type": "code",
        "outputId": "e0472ab5-aa24-4170-b209-5aaf1e5172e5",
        "colab": {
          "base_uri": "https://localhost:8080/",
          "height": 34
        }
      },
      "source": [
        "#running our model on a NORMAL image \n",
        "output_ = predict('/content/chest_xray/chest_xray/val/NORMAL/NORMAL2-IM-1437-0001.jpeg')\n",
        "print('OUTPUT :',output_)"
      ],
      "execution_count": 0,
      "outputs": [
        {
          "output_type": "stream",
          "text": [
            "OUTPUT : NORMAL\n"
          ],
          "name": "stdout"
        }
      ]
    }
  ]
}