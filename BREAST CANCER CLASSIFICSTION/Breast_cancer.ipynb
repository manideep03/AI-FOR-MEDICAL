{
  "nbformat": 4,
  "nbformat_minor": 0,
  "metadata": {
    "colab": {
      "name": "Breast_cancer.ipynb",
      "provenance": [],
      "collapsed_sections": [
        "2tYYrRf57al9"
      ]
    },
    "kernelspec": {
      "name": "python3",
      "display_name": "Python 3"
    },
    "accelerator": "GPU"
  },
  "cells": [
    {
      "cell_type": "markdown",
      "metadata": {
        "id": "G5ctpNFp4U6-",
        "colab_type": "text"
      },
      "source": [
        "# Breast cancer classification with Deep Learning"
      ]
    },
    {
      "cell_type": "markdown",
      "metadata": {
        "id": "4rMSCJEqyase",
        "colab_type": "text"
      },
      "source": [
        "- The breast cancer histology image dataset\n",
        "\n",
        "![image](https://pyimagesearch.com/wp-content/uploads/2019/02/breast_cancer_classification_dataset.jpg)"
      ]
    },
    {
      "cell_type": "markdown",
      "metadata": {
        "id": "xoK3e2GFzP3p",
        "colab_type": "text"
      },
      "source": [
        "Dataset information \n",
        " - Slide images are naturally massive (in terms of spatial dimensions), so in order to make them easier to work with, a total of 277,524 patches of 50×50 pixels were extracted, including:\n",
        "\n",
        "  - 198,738 negative examples (i.e., no breast cancer)\n",
        "  - 78,786 positive examples (i.e., indicating breast cancer was found in the patch)"
      ]
    },
    {
      "cell_type": "markdown",
      "metadata": {
        "id": "oiZ5yBeyzyUF",
        "colab_type": "text"
      },
      "source": [
        "\n",
        "[LINK TO DATASET](https://www.kaggle.com/paultimothymooney/breast-histopathology-images)"
      ]
    },
    {
      "cell_type": "markdown",
      "metadata": {
        "id": "2tYYrRf57al9",
        "colab_type": "text"
      },
      "source": [
        "### getting data from kaggle\n"
      ]
    },
    {
      "cell_type": "code",
      "metadata": {
        "id": "H7E-q54t4LBy",
        "colab_type": "code",
        "colab": {}
      },
      "source": [
        "!pip install kaggle"
      ],
      "execution_count": 0,
      "outputs": []
    },
    {
      "cell_type": "code",
      "metadata": {
        "id": "YOCAaQ807qmU",
        "colab_type": "code",
        "colab": {}
      },
      "source": [
        "from google.colab import files\n",
        "files.upload()"
      ],
      "execution_count": 0,
      "outputs": []
    },
    {
      "cell_type": "code",
      "metadata": {
        "id": "mb1I7qG47zv1",
        "colab_type": "code",
        "colab": {}
      },
      "source": [
        "!mkdir -p ~/.kaggle\n",
        "!cp kaggle.json ~/.kaggle/\n",
        "!ls ~/.kaggle\n",
        "!chmod 600 /root/.kaggle/kaggle.json"
      ],
      "execution_count": 0,
      "outputs": []
    },
    {
      "cell_type": "code",
      "metadata": {
        "id": "UI6lGLQj7k9F",
        "colab_type": "code",
        "colab": {}
      },
      "source": [
        "!kaggle datasets download -d paultimothymooney/breast-histopathology-images"
      ],
      "execution_count": 0,
      "outputs": []
    },
    {
      "cell_type": "code",
      "metadata": {
        "id": "E5Si8Om48GHb",
        "colab_type": "code",
        "colab": {}
      },
      "source": [
        "%mkdir dataset\n",
        "%mkdir dataset/orig\n",
        "%cd dataset/orig\n"
      ],
      "execution_count": 0,
      "outputs": []
    },
    {
      "cell_type": "code",
      "metadata": {
        "id": "jzna1hFa8clZ",
        "colab_type": "code",
        "colab": {}
      },
      "source": [
        "!unzip /content/breast-histopathology-images.zip"
      ],
      "execution_count": 0,
      "outputs": []
    },
    {
      "cell_type": "code",
      "metadata": {
        "id": "U31lWQNy8gS8",
        "colab_type": "code",
        "colab": {}
      },
      "source": [
        "!rm -rf /content/dataset/orig/IDC_regular_ps50_idx5"
      ],
      "execution_count": 0,
      "outputs": []
    },
    {
      "cell_type": "code",
      "metadata": {
        "id": "598Viz3x-CdI",
        "colab_type": "code",
        "colab": {}
      },
      "source": [
        "%cd /content/dataset\n",
        "%mkdir idc"
      ],
      "execution_count": 0,
      "outputs": []
    },
    {
      "cell_type": "markdown",
      "metadata": {
        "id": "MPTKKouc9sWM",
        "colab_type": "text"
      },
      "source": [
        "## DATA PREPARATION"
      ]
    },
    {
      "cell_type": "code",
      "metadata": {
        "id": "W2hIoY_f9QmM",
        "colab_type": "code",
        "colab": {}
      },
      "source": [
        "import os\n",
        "\n",
        "dataset = '/content/dataset/orig'\n",
        "base_path = '/content/dataset/idc'\n",
        "\n",
        "train_path = os.path.sep.join([base_path,'train'])\n",
        "val_path = os.path.sep.join([base_path,'val'])\n",
        "test_path = os.path.sep.join([base_path,'test'])\n",
        "\n",
        "train_split = 0.8\n",
        "val_split = 0.1"
      ],
      "execution_count": 0,
      "outputs": []
    },
    {
      "cell_type": "code",
      "metadata": {
        "id": "P-OkWLsC_HeA",
        "colab_type": "code",
        "colab": {}
      },
      "source": [
        "from imutils import paths\n",
        "import random\n",
        "import shutil\n",
        "from tqdm import tqdm\n",
        "import os"
      ],
      "execution_count": 0,
      "outputs": []
    },
    {
      "cell_type": "code",
      "metadata": {
        "id": "eiXGMYZO_Yle",
        "colab_type": "code",
        "colab": {}
      },
      "source": [
        "image_paths = list(paths.list_images(dataset))"
      ],
      "execution_count": 0,
      "outputs": []
    },
    {
      "cell_type": "code",
      "metadata": {
        "id": "gnhrnpSv_hny",
        "colab_type": "code",
        "colab": {}
      },
      "source": [
        "random.shuffle(image_paths)\n",
        "\n",
        "i = int(len(image_paths)*train_split)\n",
        "train_paths = image_paths[:i]\n",
        "test_paths = image_paths[i:]\n",
        "\n",
        "i = int(len(train_paths)*val_split)\n",
        "val_paths = image_paths[:i]\n",
        "train_paths = image_paths[i:]\n",
        "\n",
        "datasets = [\n",
        "\t(\"training\", train_paths, train_path),\n",
        "\t(\"validation\", val_paths, val_path),\n",
        "\t(\"testing\", test_paths, test_path)\n",
        "]"
      ],
      "execution_count": 0,
      "outputs": []
    },
    {
      "cell_type": "code",
      "metadata": {
        "id": "ikTNtuUnBBjW",
        "colab_type": "code",
        "outputId": "752e4fcb-6d19-4aad-9b0a-475d0f5f8ce3",
        "colab": {
          "base_uri": "https://localhost:8080/",
          "height": 218
        }
      },
      "source": [
        "for (dType, imagePaths, baseOutput) in datasets:\n",
        "\t# show which data split we are creating\n",
        "\tprint(\"[INFO] building '{}' split\".format(dType))\n",
        "\t# if the output base output directory does not exist, create it\n",
        "\tif not os.path.exists(baseOutput):\n",
        "\t\tprint(\"[INFO] 'creating {}' directory\".format(baseOutput))\n",
        "\t\tos.makedirs(baseOutput)\n",
        "\t# loop over the input image paths\n",
        "\tfor inputPath in imagePaths:\n",
        "\t\t# extract the filename of the input image and extract the\n",
        "\t\t# class label (\"0\" for \"negative\" and \"1\" for \"positive\")\n",
        "\t\tfilename = inputPath.split(os.path.sep)[-1]\n",
        "\t\tlabel = filename[-5:-4]\n",
        "\t\t# build the path to the label directory\n",
        "\t\tlabelPath = os.path.sep.join([baseOutput, label])\n",
        "\t\t# if the label output directory does not exist, create it\n",
        "\t\tif not os.path.exists(labelPath):\n",
        "\t\t\tprint(\"[INFO] 'creating {}' directory\".format(labelPath))\n",
        "\t\t\tos.makedirs(labelPath)\n",
        "\t\t# construct the path to the destination image and then copy\n",
        "\t\t# the image itself\n",
        "\t\tp = os.path.sep.join([labelPath, filename])\n",
        "\t\tshutil.copy2(inputPath, p)"
      ],
      "execution_count": 13,
      "outputs": [
        {
          "output_type": "stream",
          "text": [
            "[INFO] building 'training' split\n",
            "[INFO] 'creating /content/dataset/idc/train' directory\n",
            "[INFO] 'creating /content/dataset/idc/train/0' directory\n",
            "[INFO] 'creating /content/dataset/idc/train/1' directory\n",
            "[INFO] building 'validation' split\n",
            "[INFO] 'creating /content/dataset/idc/val' directory\n",
            "[INFO] 'creating /content/dataset/idc/val/1' directory\n",
            "[INFO] 'creating /content/dataset/idc/val/0' directory\n",
            "[INFO] building 'testing' split\n",
            "[INFO] 'creating /content/dataset/idc/test' directory\n",
            "[INFO] 'creating /content/dataset/idc/test/1' directory\n",
            "[INFO] 'creating /content/dataset/idc/test/0' directory\n"
          ],
          "name": "stdout"
        }
      ]
    },
    {
      "cell_type": "markdown",
      "metadata": {
        "id": "aWVuzzMQxpgX",
        "colab_type": "text"
      },
      "source": [
        "## BUILDING MODEL"
      ]
    },
    {
      "cell_type": "code",
      "metadata": {
        "id": "GKxyGom_mqcy",
        "colab_type": "code",
        "colab": {
          "base_uri": "https://localhost:8080/",
          "height": 34
        },
        "outputId": "a65eaa59-90a5-4892-e489-bae88e2341f9"
      },
      "source": [
        "from keras.models import Sequential\n",
        "from keras.layers.normalization import BatchNormalization\n",
        "from keras.layers.convolutional import SeparableConv2D, MaxPooling2D\n",
        "from keras.layers.core import Activation, Flatten, Dropout, Dense\n",
        "from keras import backend as K"
      ],
      "execution_count": 14,
      "outputs": [
        {
          "output_type": "stream",
          "text": [
            "Using TensorFlow backend.\n"
          ],
          "name": "stderr"
        }
      ]
    },
    {
      "cell_type": "code",
      "metadata": {
        "id": "4U0YJCOBnypu",
        "colab_type": "code",
        "colab": {}
      },
      "source": [
        "class CancerNet:\n",
        "    @staticmethod\n",
        "    def build(width, height, depth, classes):\n",
        "        model = Sequential()\n",
        "        inputShape = (height, width, depth)\n",
        "        chanDim = -1\n",
        "        if K.image_data_format()=='channels_frist':\n",
        "            inputShape = (depth, height, width)\n",
        "            chanDim = 1\n",
        "\n",
        "        # CONV => RELU => POOL\n",
        "        model.add(SeparableConv2D(32, (3,3),padding='same',input_shape=inputShape))\n",
        "        model.add(Activation('relu'))\n",
        "        model.add(BatchNormalization(axis=chanDim))\n",
        "        model.add(MaxPooling2D(pool_size=(2, 2)))\n",
        "        model.add(Dropout(0.25))\n",
        "\n",
        "        # (CONV => RELU => POOL) * 2\n",
        "        model.add(SeparableConv2D(64,(3,3),padding='same'))\n",
        "        model.add(Activation('relu'))\n",
        "        model.add(BatchNormalization(axis=chanDim))\n",
        "        model.add(SeparableConv2D(64,(3,3),padding='same'))\n",
        "        model.add(Activation('relu'))\n",
        "        model.add(BatchNormalization(axis=chanDim))\n",
        "        model.add(MaxPooling2D(pool_size=(2,2)))\n",
        "        model.add(Dropout(0.25))\n",
        "\n",
        "        # (CONV => RELU => POOL) * 3\n",
        "        model.add(SeparableConv2D(128,(3,3),padding='same'))\n",
        "        model.add(Activation('relu'))\n",
        "        model.add(BatchNormalization(axis=chanDim))\n",
        "        model.add(SeparableConv2D(128,(3,3),padding='same'))\n",
        "        model.add(Activation('relu'))\n",
        "        model.add(BatchNormalization(axis=chanDim))\n",
        "        model.add(SeparableConv2D(128,(3,3),padding='same'))\n",
        "        model.add(Activation('relu'))\n",
        "        model.add(BatchNormalization(axis=chanDim))\n",
        "        model.add(MaxPooling2D(pool_size=(2,2)))\n",
        "        model.add(Dropout(0.25))\n",
        "\n",
        "        model.add(Flatten())\n",
        "        model.add(Dense(256))\n",
        "        model.add(Activation('relu'))\n",
        "        model.add(BatchNormalization())\n",
        "        model.add(Dropout(0.5))\n",
        "\n",
        "        model.add(Dense(classes))\n",
        "        model.add(Activation('softmax'))\n",
        "\n",
        "        return model"
      ],
      "execution_count": 0,
      "outputs": []
    },
    {
      "cell_type": "markdown",
      "metadata": {
        "id": "Ed512g2Nxw_b",
        "colab_type": "text"
      },
      "source": [
        "### SETING UP SOME PARAMETERS"
      ]
    },
    {
      "cell_type": "code",
      "metadata": {
        "id": "rn4agKeMrz7q",
        "colab_type": "code",
        "colab": {}
      },
      "source": [
        "from keras.preprocessing.image import ImageDataGenerator\n",
        "from keras.callbacks import LearningRateScheduler\n",
        "from keras.optimizers import Adagrad\n",
        "from keras.utils import np_utils\n",
        "from sklearn.metrics import classification_report\n",
        "from sklearn.metrics import confusion_matrix\n",
        "from imutils import paths\n",
        "import matplotlib.pyplot as plt\n",
        "import numpy as np"
      ],
      "execution_count": 0,
      "outputs": []
    },
    {
      "cell_type": "code",
      "metadata": {
        "id": "U1qUQeJEsWkW",
        "colab_type": "code",
        "colab": {}
      },
      "source": [
        "num_epochs = 3\n",
        "INIT_LR = 1e-2\n",
        "BS = 32\n",
        "\n",
        "trainPaths = list(paths.list_images(train_path))\n",
        "totalTrain = len(trainPaths)\n",
        "totalVal = len(list(paths.list_images(val_path)))\n",
        "totalTest = len(list(paths.list_images(test_path)))\n",
        "\n",
        "trainLabels = [int(p.split(os.path.sep)[-2])for p in trainPaths]\n",
        "trainLabels = np_utils.to_categorical(trainLabels)\n",
        "classTotals = trainLabels.sum(axis=0)\n",
        "classWeight = classTotals.max()/classTotals\n"
      ],
      "execution_count": 0,
      "outputs": []
    },
    {
      "cell_type": "markdown",
      "metadata": {
        "id": "1TB5PN9_x8-m",
        "colab_type": "text"
      },
      "source": [
        "### CREATING DATA GENERATORS"
      ]
    },
    {
      "cell_type": "code",
      "metadata": {
        "id": "oELcNB8StwCx",
        "colab_type": "code",
        "colab": {}
      },
      "source": [
        "trainAug = ImageDataGenerator(\n",
        "\trescale=1 / 255.0,\n",
        "\trotation_range=20,\n",
        "\tzoom_range=0.05,\n",
        "\twidth_shift_range=0.1,\n",
        "\theight_shift_range=0.1,\n",
        "\tshear_range=0.05,\n",
        "\thorizontal_flip=True,\n",
        "\tvertical_flip=True,\n",
        "\tfill_mode=\"nearest\")\n",
        "\n",
        "# initialize the validation (and testing) data augmentation object\n",
        "valAug = ImageDataGenerator(rescale=1 / 255.0)\n"
      ],
      "execution_count": 0,
      "outputs": []
    },
    {
      "cell_type": "code",
      "metadata": {
        "id": "E8UESITPt0aa",
        "colab_type": "code",
        "colab": {
          "base_uri": "https://localhost:8080/",
          "height": 67
        },
        "outputId": "cc0dcfe6-4bb7-4a36-c948-dd4c21315367"
      },
      "source": [
        "# initialize the training generator\n",
        "trainGen = trainAug.flow_from_directory(\n",
        "    train_path,\n",
        "    class_mode='categorical',\n",
        "    target_size=(48,48),\n",
        "    color_mode='rgb',\n",
        "    shuffle=True,\n",
        "    batch_size=BS\n",
        ")\n",
        "\n",
        "# initialize the validation generator\n",
        "valGen = valAug.flow_from_directory(\n",
        "\tval_path,\n",
        "\tclass_mode=\"categorical\",\n",
        "\ttarget_size=(48, 48),\n",
        "\tcolor_mode=\"rgb\",\n",
        "\tshuffle=False,\n",
        "\tbatch_size=BS\n",
        ")\n",
        "\n",
        "# initialize the testing generator\n",
        "testGen = valAug.flow_from_directory(\n",
        "\ttest_path,\n",
        "\tclass_mode=\"categorical\",\n",
        "\ttarget_size=(48, 48),\n",
        "\tcolor_mode=\"rgb\",\n",
        "\tshuffle=False,\n",
        "\tbatch_size=BS\n",
        ")"
      ],
      "execution_count": 19,
      "outputs": [
        {
          "output_type": "stream",
          "text": [
            "Found 255323 images belonging to 2 classes.\n",
            "Found 22201 images belonging to 2 classes.\n",
            "Found 55505 images belonging to 2 classes.\n"
          ],
          "name": "stdout"
        }
      ]
    },
    {
      "cell_type": "markdown",
      "metadata": {
        "id": "uCmCi-bByG2h",
        "colab_type": "text"
      },
      "source": [
        "## COMPILE MODEL AND RUNNING MODEL "
      ]
    },
    {
      "cell_type": "code",
      "metadata": {
        "id": "rwRyw4ldunLa",
        "colab_type": "code",
        "colab": {
          "base_uri": "https://localhost:8080/",
          "height": 117
        },
        "outputId": "3af3fb15-85d4-413e-e86b-5f778d275599"
      },
      "source": [
        "model = CancerNet.build(width=48,height=48,depth=3,classes=2)\n",
        "\n",
        "opt = Adagrad(lr=INIT_LR,decay=INIT_LR/num_epochs)\n",
        "model.compile(loss='binary_crossentropy',optimizer=opt,metrics=['accuracy'])\n",
        "\n",
        "H = model.fit_generator(\n",
        "\ttrainGen,\n",
        "\tsteps_per_epoch=totalTrain // BS,\n",
        "\tvalidation_data=valGen,\n",
        "\tvalidation_steps=totalVal // BS,\n",
        "\tclass_weight=classWeight,\n",
        "\tepochs=num_epochs)"
      ],
      "execution_count": 22,
      "outputs": [
        {
          "output_type": "stream",
          "text": [
            "Epoch 1/3\n",
            "7978/7978 [==============================] - 436s 55ms/step - loss: 0.3955 - accuracy: 0.8349 - val_loss: 0.2338 - val_accuracy: 0.7937\n",
            "Epoch 2/3\n",
            "7978/7978 [==============================] - 420s 53ms/step - loss: 0.3801 - accuracy: 0.8395 - val_loss: 0.4701 - val_accuracy: 0.8022\n",
            "Epoch 3/3\n",
            "7978/7978 [==============================] - 413s 52ms/step - loss: 0.3786 - accuracy: 0.8398 - val_loss: 0.1594 - val_accuracy: 0.8042\n"
          ],
          "name": "stdout"
        }
      ]
    },
    {
      "cell_type": "code",
      "metadata": {
        "id": "icQQLAre0Kj0",
        "colab_type": "code",
        "colab": {
          "base_uri": "https://localhost:8080/",
          "height": 1000
        },
        "outputId": "c3d96b34-b840-4192-f643-2d3609f7995a"
      },
      "source": [
        "model.summary()"
      ],
      "execution_count": 30,
      "outputs": [
        {
          "output_type": "stream",
          "text": [
            "Model: \"sequential_2\"\n",
            "_________________________________________________________________\n",
            "Layer (type)                 Output Shape              Param #   \n",
            "=================================================================\n",
            "separable_conv2d_7 (Separabl (None, 48, 48, 32)        155       \n",
            "_________________________________________________________________\n",
            "activation_9 (Activation)    (None, 48, 48, 32)        0         \n",
            "_________________________________________________________________\n",
            "batch_normalization_8 (Batch (None, 48, 48, 32)        128       \n",
            "_________________________________________________________________\n",
            "max_pooling2d_4 (MaxPooling2 (None, 24, 24, 32)        0         \n",
            "_________________________________________________________________\n",
            "dropout_5 (Dropout)          (None, 24, 24, 32)        0         \n",
            "_________________________________________________________________\n",
            "separable_conv2d_8 (Separabl (None, 24, 24, 64)        2400      \n",
            "_________________________________________________________________\n",
            "activation_10 (Activation)   (None, 24, 24, 64)        0         \n",
            "_________________________________________________________________\n",
            "batch_normalization_9 (Batch (None, 24, 24, 64)        256       \n",
            "_________________________________________________________________\n",
            "separable_conv2d_9 (Separabl (None, 24, 24, 64)        4736      \n",
            "_________________________________________________________________\n",
            "activation_11 (Activation)   (None, 24, 24, 64)        0         \n",
            "_________________________________________________________________\n",
            "batch_normalization_10 (Batc (None, 24, 24, 64)        256       \n",
            "_________________________________________________________________\n",
            "max_pooling2d_5 (MaxPooling2 (None, 12, 12, 64)        0         \n",
            "_________________________________________________________________\n",
            "dropout_6 (Dropout)          (None, 12, 12, 64)        0         \n",
            "_________________________________________________________________\n",
            "separable_conv2d_10 (Separab (None, 12, 12, 128)       8896      \n",
            "_________________________________________________________________\n",
            "activation_12 (Activation)   (None, 12, 12, 128)       0         \n",
            "_________________________________________________________________\n",
            "batch_normalization_11 (Batc (None, 12, 12, 128)       512       \n",
            "_________________________________________________________________\n",
            "separable_conv2d_11 (Separab (None, 12, 12, 128)       17664     \n",
            "_________________________________________________________________\n",
            "activation_13 (Activation)   (None, 12, 12, 128)       0         \n",
            "_________________________________________________________________\n",
            "batch_normalization_12 (Batc (None, 12, 12, 128)       512       \n",
            "_________________________________________________________________\n",
            "separable_conv2d_12 (Separab (None, 12, 12, 128)       17664     \n",
            "_________________________________________________________________\n",
            "activation_14 (Activation)   (None, 12, 12, 128)       0         \n",
            "_________________________________________________________________\n",
            "batch_normalization_13 (Batc (None, 12, 12, 128)       512       \n",
            "_________________________________________________________________\n",
            "max_pooling2d_6 (MaxPooling2 (None, 6, 6, 128)         0         \n",
            "_________________________________________________________________\n",
            "dropout_7 (Dropout)          (None, 6, 6, 128)         0         \n",
            "_________________________________________________________________\n",
            "flatten_2 (Flatten)          (None, 4608)              0         \n",
            "_________________________________________________________________\n",
            "dense_3 (Dense)              (None, 256)               1179904   \n",
            "_________________________________________________________________\n",
            "activation_15 (Activation)   (None, 256)               0         \n",
            "_________________________________________________________________\n",
            "batch_normalization_14 (Batc (None, 256)               1024      \n",
            "_________________________________________________________________\n",
            "dropout_8 (Dropout)          (None, 256)               0         \n",
            "_________________________________________________________________\n",
            "dense_4 (Dense)              (None, 2)                 514       \n",
            "_________________________________________________________________\n",
            "activation_16 (Activation)   (None, 2)                 0         \n",
            "=================================================================\n",
            "Total params: 1,235,133\n",
            "Trainable params: 1,233,533\n",
            "Non-trainable params: 1,600\n",
            "_________________________________________________________________\n"
          ],
          "name": "stdout"
        }
      ]
    },
    {
      "cell_type": "markdown",
      "metadata": {
        "id": "7emj70gryNbz",
        "colab_type": "text"
      },
      "source": [
        "## EVALUATING MODEL \n"
      ]
    },
    {
      "cell_type": "code",
      "metadata": {
        "id": "LzMRnhGivQsy",
        "colab_type": "code",
        "colab": {
          "base_uri": "https://localhost:8080/",
          "height": 185
        },
        "outputId": "88a50e6c-da98-466f-d36a-2e1ee0fde464"
      },
      "source": [
        "print(\"[INFO] evaluating network...\")\n",
        "testGen.reset()\n",
        "predIdxs = model.predict_generator(testGen,\n",
        "\tsteps=(totalTest // BS) + 1)\n",
        "# for each image in the testing set we need to find the index of the\n",
        "# label with corresponding largest predicted probability\n",
        "predIdxs = np.argmax(predIdxs, axis=1)\n",
        "# show a nicely formatted classification report\n",
        "print(classification_report(testGen.classes, predIdxs,target_names=testGen.class_indices.keys()))"
      ],
      "execution_count": 24,
      "outputs": [
        {
          "output_type": "stream",
          "text": [
            "[INFO] evaluating network...\n",
            "              precision    recall  f1-score   support\n",
            "\n",
            "           0       0.93      0.79      0.86     39772\n",
            "           1       0.62      0.85      0.72     15733\n",
            "\n",
            "    accuracy                           0.81     55505\n",
            "   macro avg       0.77      0.82      0.79     55505\n",
            "weighted avg       0.84      0.81      0.82     55505\n",
            "\n"
          ],
          "name": "stdout"
        }
      ]
    },
    {
      "cell_type": "code",
      "metadata": {
        "id": "C7FAUXY9wqR0",
        "colab_type": "code",
        "colab": {
          "base_uri": "https://localhost:8080/",
          "height": 101
        },
        "outputId": "0ad91475-2ac0-4a74-b79a-26c4f4b50764"
      },
      "source": [
        "# compute the confusion matrix and and use it to derive the raw\n",
        "# accuracy, sensitivity, and specificity\n",
        "cm = confusion_matrix(testGen.classes, predIdxs)\n",
        "total = sum(sum(cm))\n",
        "acc = (cm[0, 0] + cm[1, 1]) / total\n",
        "sensitivity = cm[0, 0] / (cm[0, 0] + cm[0, 1])\n",
        "specificity = cm[1, 1] / (cm[1, 0] + cm[1, 1])\n",
        "# show the confusion matrix, accuracy, sensitivity, and specificity\n",
        "print(cm)\n",
        "print(\"acc: {:.4f}\".format(acc))\n",
        "print(\"sensitivity: {:.4f}\".format(sensitivity))\n",
        "print(\"specificity: {:.4f}\".format(specificity))"
      ],
      "execution_count": 25,
      "outputs": [
        {
          "output_type": "stream",
          "text": [
            "[[31578  8194]\n",
            " [ 2388 13345]]\n",
            "acc: 0.8094\n",
            "sensitivity: 0.7940\n",
            "specificity: 0.8482\n"
          ],
          "name": "stdout"
        }
      ]
    },
    {
      "cell_type": "markdown",
      "metadata": {
        "id": "u4K3d3KPySan",
        "colab_type": "text"
      },
      "source": [
        "### PLOTING MODEL PERFORMANCE\n"
      ]
    },
    {
      "cell_type": "code",
      "metadata": {
        "id": "uroo82MJwwur",
        "colab_type": "code",
        "colab": {
          "base_uri": "https://localhost:8080/",
          "height": 316
        },
        "outputId": "55beb2ac-3de6-4565-c80c-5856d09e713f"
      },
      "source": [
        "N = num_epochs\n",
        "plt.style.use(\"ggplot\")\n",
        "plt.figure()\n",
        "plt.plot(np.arange(0, N), H.history[\"loss\"], label=\"train_loss\")\n",
        "plt.plot(np.arange(0, N), H.history[\"val_loss\"], label=\"val_loss\")\n",
        "plt.plot(np.arange(0, N), H.history[\"accuracy\"], label=\"train_acc\")\n",
        "plt.plot(np.arange(0, N), H.history[\"val_accuracy\"], label=\"val_acc\")\n",
        "plt.title(\"Training Loss and Accuracy on Dataset\")\n",
        "plt.xlabel(\"Epoch #\")\n",
        "plt.ylabel(\"Loss/Accuracy\")\n",
        "plt.legend(loc=\"lower left\")\n"
      ],
      "execution_count": 29,
      "outputs": [
        {
          "output_type": "execute_result",
          "data": {
            "text/plain": [
              "<matplotlib.legend.Legend at 0x7f3fc5effd68>"
            ]
          },
          "metadata": {
            "tags": []
          },
          "execution_count": 29
        },
        {
          "output_type": "display_data",
          "data": {
            "image/png": "[encoded data removed]",
            "text/plain": [
              "<Figure size 432x288 with 1 Axes>"
            ]
          },
          "metadata": {
            "tags": []
          }
        }
      ]
    }
  ]
}